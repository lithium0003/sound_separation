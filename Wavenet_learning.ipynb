{
  "nbformat": 4,
  "nbformat_minor": 0,
  "metadata": {
    "colab": {
      "name": "Wavenet_learning.ipynb",
      "version": "0.3.2",
      "provenance": [],
      "private_outputs": true,
      "collapsed_sections": []
    },
    "kernelspec": {
      "name": "python3",
      "display_name": "Python 3"
    },
    "accelerator": "TPU"
  },
  "cells": [
    {
      "metadata": {
        "id": "BN2e-VUR4Uu4",
        "colab_type": "code",
        "colab": {}
      },
      "cell_type": "code",
      "source": [
        "from google.colab import drive\n",
        "drive.mount('/content/gdrive')"
      ],
      "execution_count": 0,
      "outputs": []
    },
    {
      "metadata": {
        "id": "hIcq2-po2Toi",
        "colab_type": "code",
        "colab": {}
      },
      "cell_type": "code",
      "source": [
        "sound_path = '/content/gdrive/My Drive/learning/sound'"
      ],
      "execution_count": 0,
      "outputs": []
    },
    {
      "metadata": {
        "id": "uBxnP8Gj6AbA",
        "colab_type": "code",
        "colab": {}
      },
      "cell_type": "code",
      "source": [
        "! git clone https://github.com/lithium0003/sound_separation.git\n",
        "! cp sound_separation/ssWavenet/* .\n",
        "! ln -s \"{sound_path}\" sound"
      ],
      "execution_count": 0,
      "outputs": []
    },
    {
      "metadata": {
        "id": "TAIhw2rsFrKT",
        "colab_type": "code",
        "colab": {}
      },
      "cell_type": "code",
      "source": [
        "! pip install pysoundfile joblib\n",
        "! apt install libsndfile1"
      ],
      "execution_count": 0,
      "outputs": []
    },
    {
      "metadata": {
        "id": "2dZWnzfE3ASF",
        "colab_type": "code",
        "colab": {}
      },
      "cell_type": "code",
      "source": [
        "import json\n",
        "\n",
        "def load_config(config_filepath):\n",
        "    try:\n",
        "        config_file = open(config_filepath, 'r')\n",
        "    except IOError:\n",
        "        print('No readable config file at path: ' + config_filepath)\n",
        "        exit()\n",
        "    else:\n",
        "        with config_file:\n",
        "            return json.load(config_file)\n",
        "\n",
        "config = load_config('config.json')\n",
        "config['training']['batch_size'] = 8*config['training']['batch_size']\n",
        "config['training']['path'] = 'sound/sessions/wavenet/001'\n",
        "config['tensorboard']['path'] = 'sound/logs/wavenet/001'\n",
        "config['dataset'] = {\n",
        "    'train' : {\n",
        "        'vocal1': [\n",
        "            'sound/data/train/part1_12.wav'\n",
        "        ],\n",
        "        'vocal2': [\n",
        "            'sound/data/train/part2_12.wav'\n",
        "        ],\n",
        "         'mixture': [\n",
        "            'sound/data/train/mixture_12.wav'\n",
        "        ],\n",
        "    },\n",
        "    'val' : {\n",
        "        'vocal1': [\n",
        "            'sound/data/val/part1_12.wav'\n",
        "        ],\n",
        "        'vocal2': [\n",
        "            'sound/data/val/part2_12.wav'\n",
        "        ],\n",
        "         'mixture': [\n",
        "            'sound/data/val/mixture_12.wav'\n",
        "        ],\n",
        "    },\n",
        "}"
      ],
      "execution_count": 0,
      "outputs": []
    },
    {
      "metadata": {
        "id": "vpUo0nID3PLj",
        "colab_type": "code",
        "colab": {}
      },
      "cell_type": "code",
      "source": [
        "import tensorflow as tf\n",
        "\n",
        "import models\n",
        "import datasets\n",
        "\n",
        "def training(config):\n",
        "    #exp = Experiment('Wavenet Separation')\n",
        "\n",
        "    model = models.SeparationWavenet(config, True)\n",
        "    dataset = datasets.VoiceDataset(config, model).load_dataset()\n",
        "\n",
        "    num_steps_train = config['training']['num_steps_train']\n",
        "    num_steps_val = config['training']['num_steps_test']\n",
        "    train_set_generator = dataset.get_random_batch_generator('train')\n",
        "    val_set_generator = dataset.get_random_batch_generator('val')\n",
        "\n",
        "    model.fit_model(train_set_generator, num_steps_train, val_set_generator, num_steps_val,\n",
        "                    config['training']['num_epochs'])\n",
        "\n",
        "    #exp.end()\n",
        "\n",
        " \n",
        "training(config)"
      ],
      "execution_count": 0,
      "outputs": []
    }
  ]
}
